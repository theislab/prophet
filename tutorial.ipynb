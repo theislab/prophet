{
 "cells": [
  {
   "cell_type": "markdown",
   "id": "f95e67be",
   "metadata": {},
   "source": [
    "# Scalable and universal prediction of cellular phenotypes\n",
    "\n",
    "This notebook demonstrates how to make predictions with Prophet with any of the checkpoints we have made available."
   ]
  },
  {
   "cell_type": "code",
   "execution_count": 46,
   "id": "66127741",
   "metadata": {
    "scrolled": false
   },
   "outputs": [],
   "source": [
    "import yaml\n",
    "from prophet import Prophet, set_config"
   ]
  },
  {
   "cell_type": "markdown",
   "id": "164fa87f",
   "metadata": {},
   "source": [
    "We load in a config file to automatically get the file paths for the embeddings which were used, but any of the files in `embeddings` can be passed."
   ]
  },
  {
   "cell_type": "code",
   "execution_count": 49,
   "id": "8823f063",
   "metadata": {},
   "outputs": [],
   "source": [
    "with open('config_file_finetuning.yaml', 'r') as f:\n",
    "    config = set_config(yaml.safe_load(f))"
   ]
  },
  {
   "cell_type": "code",
   "execution_count": 50,
   "id": "6f957ebd",
   "metadata": {},
   "outputs": [],
   "source": [
    "# replace this with the path to the checkpoint you want to use\n",
    "path = '/ictstr01/home/icb/yuge.ji/projects/super_rad_project/pretrained_prophet/GDSC/gene_0_TrainedOn179_genes_out_300cl_1219iv_512model_8layers_Falsesimpler_Truemask_0.0001lr_Falseexplicitphenotype_5000warmup\\\n",
    "_40000max_iters_Falseunbalanced_0.01wd_256bs_Trueft/gene_0_TrainedOn179_seed_110/epoch=23-step=18528.ckpt'"
   ]
  },
  {
   "cell_type": "code",
   "execution_count": 51,
   "id": "740983bb",
   "metadata": {},
   "outputs": [
    {
     "name": "stdout",
     "output_type": "stream",
     "text": [
      "returning trained model!\n",
      "Gene net:  Sequential(\n",
      "  (0): Linear(in_features=1219, out_features=512, bias=True)\n",
      "  (1): GELU(approximate='none')\n",
      "  (2): Dropout(p=0.1, inplace=False)\n",
      "  (3): Linear(in_features=512, out_features=512, bias=True)\n",
      ")\n",
      "Cell line net:  Sequential(\n",
      "  (0): Linear(in_features=300, out_features=512, bias=True)\n",
      "  (1): GELU(approximate='none')\n",
      "  (2): Dropout(p=0.1, inplace=False)\n",
      "  (3): Linear(in_features=512, out_features=512, bias=True)\n",
      ")\n",
      "Regressor:  Sequential(\n",
      "  (0): Linear(in_features=512, out_features=512, bias=True)\n",
      "  (1): GELU(approximate='none')\n",
      "  (2): Dropout(p=0.2, inplace=False)\n",
      "  (3): Linear(in_features=512, out_features=512, bias=True)\n",
      "  (4): GELU(approximate='none')\n",
      "  (5): Linear(in_features=512, out_features=1, bias=True)\n",
      ")\n"
     ]
    }
   ],
   "source": [
    "model = Prophet(\n",
    "    iv_emb_path=config.genes_prior,\n",
    "    cl_emb_path=config.cell_lines_prior,\n",
    "    ph_emb_path=config.phenotype_prior,\n",
    "    model_pth=path,\n",
    ")"
   ]
  },
  {
   "cell_type": "markdown",
   "id": "ff7ca95e",
   "metadata": {},
   "source": [
    "Suppose we have some small molecules, some cell lines we would like to test them in, and we're interested in measuring their relative IC50. We can pass in lists of these inputs, and Prophet will return predictions for all combinations:"
   ]
  },
  {
   "cell_type": "code",
   "execution_count": 63,
   "id": "49b65b30",
   "metadata": {},
   "outputs": [],
   "source": [
    "iv_list = [\n",
    "    'oc1([c@h]2ncccc2)cn(c1)c(c3=c(c(f)=c(c=c3)f)nc4=c(c=c(c=c4)i)f)=o',\n",
    "    'cc(nc1=cc=cc(n(c2=o)c(c(c(n2c3cc3)=o)=c(n4c)nc5=cc=c(c=c5f)i)=c(c4=o)c)=c1)=o',\n",
    "    'fc1=cc=c(c(f)=c1c(c2=cnc3=nc=c(c=c32)c4=cc=c(c=c4)cl)=o)ns(ccc)(=o)=o',\n",
    "    'cs(=o)c'  # DMSO\n",
    "]\n",
    "cl_list = ['A375','UACC62','WM983B','MALME3M','A2058','WM793','HT144','RPMI7951','WM1799','LOXIMVI','WM2664','WM88','G361','SKMEL24','WM115', 'SKMEL2', 'SKMEL1', 'HMCB', 'MDAMB435S', 'UACC257']\n",
    "ph_list = ['GDSC']"
   ]
  },
  {
   "cell_type": "code",
   "execution_count": 64,
   "id": "b56b1e46",
   "metadata": {},
   "outputs": [
    {
     "name": "stdout",
     "output_type": "stream",
     "text": [
      "There are 1 iterations\n"
     ]
    },
    {
     "name": "stderr",
     "output_type": "stream",
     "text": [
      "\r",
      "  0%|                                                                                                                                                                                     | 0/1 [00:00<?, ?it/s]"
     ]
    },
    {
     "name": "stdout",
     "output_type": "stream",
     "text": [
      "Removing 0 such as [] from ['iv1', 'iv2']. 200 rows remaining.\n",
      "Removing 0 such as [] from ['cell_line']. 200 rows remaining.\n"
     ]
    },
    {
     "name": "stderr",
     "output_type": "stream",
     "text": [
      "GPU available: False, used: False\n",
      "TPU available: False, using: 0 TPU cores\n",
      "IPU available: False, using: 0 IPUs\n",
      "HPU available: False, using: 0 HPUs\n"
     ]
    },
    {
     "name": "stdout",
     "output_type": "stream",
     "text": [
      "Predicting DataLoader 0: 100%|████████████████████████████████████████████████████████████████████████████████████████████████████████████████████████████████████████████████████| 1/1 [00:00<00:00,  2.03it/s]\n"
     ]
    },
    {
     "name": "stderr",
     "output_type": "stream",
     "text": [
      "100%|█████████████████████████████████████████████████████████████████████████████████████████████████████████████████████████████████████████████████████████████████████████████| 1/1 [00:47<00:00, 47.36s/it]\n"
     ]
    },
    {
     "data": {
      "text/html": [
       "<div>\n",
       "<style scoped>\n",
       "    .dataframe tbody tr th:only-of-type {\n",
       "        vertical-align: middle;\n",
       "    }\n",
       "\n",
       "    .dataframe tbody tr th {\n",
       "        vertical-align: top;\n",
       "    }\n",
       "\n",
       "    .dataframe thead th {\n",
       "        text-align: right;\n",
       "    }\n",
       "</style>\n",
       "<table border=\"1\" class=\"dataframe\">\n",
       "  <thead>\n",
       "    <tr style=\"text-align: right;\">\n",
       "      <th></th>\n",
       "      <th>iv1</th>\n",
       "      <th>iv2</th>\n",
       "      <th>cell_line</th>\n",
       "      <th>phenotype</th>\n",
       "      <th>iv1+iv2</th>\n",
       "      <th>value</th>\n",
       "      <th>pred</th>\n",
       "    </tr>\n",
       "  </thead>\n",
       "  <tbody>\n",
       "    <tr>\n",
       "      <th>0</th>\n",
       "      <td>oc1([c@h]2ncccc2)cn(c1)c(c3=c(c(f)=c(c=c3)f)nc...</td>\n",
       "      <td>oc1([c@h]2ncccc2)cn(c1)c(c3=c(c(f)=c(c=c3)f)nc...</td>\n",
       "      <td>A375</td>\n",
       "      <td>GDSC</td>\n",
       "      <td>oc1([c@h]2ncccc2)cn(c1)c(c3=c(c(f)=c(c=c3)f)nc...</td>\n",
       "      <td>_</td>\n",
       "      <td>0.182267</td>\n",
       "    </tr>\n",
       "    <tr>\n",
       "      <th>1</th>\n",
       "      <td>oc1([c@h]2ncccc2)cn(c1)c(c3=c(c(f)=c(c=c3)f)nc...</td>\n",
       "      <td>oc1([c@h]2ncccc2)cn(c1)c(c3=c(c(f)=c(c=c3)f)nc...</td>\n",
       "      <td>UACC62</td>\n",
       "      <td>GDSC</td>\n",
       "      <td>oc1([c@h]2ncccc2)cn(c1)c(c3=c(c(f)=c(c=c3)f)nc...</td>\n",
       "      <td>_</td>\n",
       "      <td>0.175306</td>\n",
       "    </tr>\n",
       "    <tr>\n",
       "      <th>2</th>\n",
       "      <td>oc1([c@h]2ncccc2)cn(c1)c(c3=c(c(f)=c(c=c3)f)nc...</td>\n",
       "      <td>oc1([c@h]2ncccc2)cn(c1)c(c3=c(c(f)=c(c=c3)f)nc...</td>\n",
       "      <td>WM983B</td>\n",
       "      <td>GDSC</td>\n",
       "      <td>oc1([c@h]2ncccc2)cn(c1)c(c3=c(c(f)=c(c=c3)f)nc...</td>\n",
       "      <td>_</td>\n",
       "      <td>0.326975</td>\n",
       "    </tr>\n",
       "    <tr>\n",
       "      <th>3</th>\n",
       "      <td>oc1([c@h]2ncccc2)cn(c1)c(c3=c(c(f)=c(c=c3)f)nc...</td>\n",
       "      <td>oc1([c@h]2ncccc2)cn(c1)c(c3=c(c(f)=c(c=c3)f)nc...</td>\n",
       "      <td>MALME3M</td>\n",
       "      <td>GDSC</td>\n",
       "      <td>oc1([c@h]2ncccc2)cn(c1)c(c3=c(c(f)=c(c=c3)f)nc...</td>\n",
       "      <td>_</td>\n",
       "      <td>0.292684</td>\n",
       "    </tr>\n",
       "    <tr>\n",
       "      <th>4</th>\n",
       "      <td>oc1([c@h]2ncccc2)cn(c1)c(c3=c(c(f)=c(c=c3)f)nc...</td>\n",
       "      <td>oc1([c@h]2ncccc2)cn(c1)c(c3=c(c(f)=c(c=c3)f)nc...</td>\n",
       "      <td>A2058</td>\n",
       "      <td>GDSC</td>\n",
       "      <td>oc1([c@h]2ncccc2)cn(c1)c(c3=c(c(f)=c(c=c3)f)nc...</td>\n",
       "      <td>_</td>\n",
       "      <td>0.377774</td>\n",
       "    </tr>\n",
       "    <tr>\n",
       "      <th>...</th>\n",
       "      <td>...</td>\n",
       "      <td>...</td>\n",
       "      <td>...</td>\n",
       "      <td>...</td>\n",
       "      <td>...</td>\n",
       "      <td>...</td>\n",
       "      <td>...</td>\n",
       "    </tr>\n",
       "    <tr>\n",
       "      <th>252</th>\n",
       "      <td>cs(=o)c</td>\n",
       "      <td>cs(=o)c</td>\n",
       "      <td>SKMEL2</td>\n",
       "      <td>GDSC</td>\n",
       "      <td>cs(=o)c+cs(=o)c</td>\n",
       "      <td>_</td>\n",
       "      <td>0.621489</td>\n",
       "    </tr>\n",
       "    <tr>\n",
       "      <th>253</th>\n",
       "      <td>cs(=o)c</td>\n",
       "      <td>cs(=o)c</td>\n",
       "      <td>SKMEL1</td>\n",
       "      <td>GDSCcomb</td>\n",
       "      <td>cs(=o)c+cs(=o)c</td>\n",
       "      <td>_</td>\n",
       "      <td>0.604686</td>\n",
       "    </tr>\n",
       "    <tr>\n",
       "      <th>254</th>\n",
       "      <td>cs(=o)c</td>\n",
       "      <td>cs(=o)c</td>\n",
       "      <td>HMCB</td>\n",
       "      <td>PRISM</td>\n",
       "      <td>cs(=o)c+cs(=o)c</td>\n",
       "      <td>_</td>\n",
       "      <td>0.607143</td>\n",
       "    </tr>\n",
       "    <tr>\n",
       "      <th>255</th>\n",
       "      <td>cs(=o)c</td>\n",
       "      <td>cs(=o)c</td>\n",
       "      <td>MDAMB435S</td>\n",
       "      <td>inhouse</td>\n",
       "      <td>cs(=o)c+cs(=o)c</td>\n",
       "      <td>_</td>\n",
       "      <td>0.582945</td>\n",
       "    </tr>\n",
       "    <tr>\n",
       "      <th>256</th>\n",
       "      <td>cs(=o)c</td>\n",
       "      <td>cs(=o)c</td>\n",
       "      <td>UACC257</td>\n",
       "      <td>CTRP</td>\n",
       "      <td>cs(=o)c+cs(=o)c</td>\n",
       "      <td>_</td>\n",
       "      <td>0.644480</td>\n",
       "    </tr>\n",
       "  </tbody>\n",
       "</table>\n",
       "<p>257 rows × 7 columns</p>\n",
       "</div>"
      ],
      "text/plain": [
       "                                                   iv1  \\\n",
       "0    oc1([c@h]2ncccc2)cn(c1)c(c3=c(c(f)=c(c=c3)f)nc...   \n",
       "1    oc1([c@h]2ncccc2)cn(c1)c(c3=c(c(f)=c(c=c3)f)nc...   \n",
       "2    oc1([c@h]2ncccc2)cn(c1)c(c3=c(c(f)=c(c=c3)f)nc...   \n",
       "3    oc1([c@h]2ncccc2)cn(c1)c(c3=c(c(f)=c(c=c3)f)nc...   \n",
       "4    oc1([c@h]2ncccc2)cn(c1)c(c3=c(c(f)=c(c=c3)f)nc...   \n",
       "..                                                 ...   \n",
       "252                                            cs(=o)c   \n",
       "253                                            cs(=o)c   \n",
       "254                                            cs(=o)c   \n",
       "255                                            cs(=o)c   \n",
       "256                                            cs(=o)c   \n",
       "\n",
       "                                                   iv2  cell_line phenotype  \\\n",
       "0    oc1([c@h]2ncccc2)cn(c1)c(c3=c(c(f)=c(c=c3)f)nc...       A375      GDSC   \n",
       "1    oc1([c@h]2ncccc2)cn(c1)c(c3=c(c(f)=c(c=c3)f)nc...     UACC62      GDSC   \n",
       "2    oc1([c@h]2ncccc2)cn(c1)c(c3=c(c(f)=c(c=c3)f)nc...     WM983B      GDSC   \n",
       "3    oc1([c@h]2ncccc2)cn(c1)c(c3=c(c(f)=c(c=c3)f)nc...    MALME3M      GDSC   \n",
       "4    oc1([c@h]2ncccc2)cn(c1)c(c3=c(c(f)=c(c=c3)f)nc...      A2058      GDSC   \n",
       "..                                                 ...        ...       ...   \n",
       "252                                            cs(=o)c     SKMEL2      GDSC   \n",
       "253                                            cs(=o)c     SKMEL1  GDSCcomb   \n",
       "254                                            cs(=o)c       HMCB     PRISM   \n",
       "255                                            cs(=o)c  MDAMB435S   inhouse   \n",
       "256                                            cs(=o)c    UACC257      CTRP   \n",
       "\n",
       "                                               iv1+iv2 value      pred  \n",
       "0    oc1([c@h]2ncccc2)cn(c1)c(c3=c(c(f)=c(c=c3)f)nc...     _  0.182267  \n",
       "1    oc1([c@h]2ncccc2)cn(c1)c(c3=c(c(f)=c(c=c3)f)nc...     _  0.175306  \n",
       "2    oc1([c@h]2ncccc2)cn(c1)c(c3=c(c(f)=c(c=c3)f)nc...     _  0.326975  \n",
       "3    oc1([c@h]2ncccc2)cn(c1)c(c3=c(c(f)=c(c=c3)f)nc...     _  0.292684  \n",
       "4    oc1([c@h]2ncccc2)cn(c1)c(c3=c(c(f)=c(c=c3)f)nc...     _  0.377774  \n",
       "..                                                 ...   ...       ...  \n",
       "252                                    cs(=o)c+cs(=o)c     _  0.621489  \n",
       "253                                    cs(=o)c+cs(=o)c     _  0.604686  \n",
       "254                                    cs(=o)c+cs(=o)c     _  0.607143  \n",
       "255                                    cs(=o)c+cs(=o)c     _  0.582945  \n",
       "256                                    cs(=o)c+cs(=o)c     _  0.644480  \n",
       "\n",
       "[257 rows x 7 columns]"
      ]
     },
     "execution_count": 64,
     "metadata": {},
     "output_type": "execute_result"
    }
   ],
   "source": [
    "# predict with lists of treatments and cell lines\n",
    "df = model.predict(\n",
    "    target_ivs=iv_list,\n",
    "    target_cls=cl_list,\n",
    "    target_phs=ph_list,\n",
    "    iv_col=['iv1', 'iv2'],  # pass to turn on combinatorial predictions\n",
    "    num_iterations=1, save=False,\n",
    ")\n",
    "df"
   ]
  },
  {
   "cell_type": "markdown",
   "id": "2558c91f",
   "metadata": {},
   "source": [
    "If we're interested in only a subset of the experimental matrix, we can also pass in a custom dataframe. (This is the recommended usage, as users understand exactly the list being predicted.)"
   ]
  },
  {
   "cell_type": "code",
   "execution_count": 66,
   "id": "65e53302",
   "metadata": {},
   "outputs": [
    {
     "name": "stdout",
     "output_type": "stream",
     "text": [
      "There are 1 iterations\n"
     ]
    },
    {
     "name": "stderr",
     "output_type": "stream",
     "text": [
      "  0%|                                                                                                                                                                                     | 0/1 [00:00<?, ?it/s]GPU available: False, used: False\n",
      "TPU available: False, using: 0 TPU cores\n",
      "IPU available: False, using: 0 IPUs\n",
      "HPU available: False, using: 0 HPUs\n"
     ]
    },
    {
     "name": "stdout",
     "output_type": "stream",
     "text": [
      "Predicting DataLoader 0: 100%|████████████████████████████████████████████████████████████████████████████████████████████████████████████████████████████████████████████████████| 1/1 [00:00<00:00,  3.89it/s]\n"
     ]
    },
    {
     "name": "stderr",
     "output_type": "stream",
     "text": [
      "100%|█████████████████████████████████████████████████████████████████████████████████████████████████████████████████████████████████████████████████████████████████████████████| 1/1 [00:21<00:00, 21.48s/it]\n"
     ]
    },
    {
     "data": {
      "text/html": [
       "<div>\n",
       "<style scoped>\n",
       "    .dataframe tbody tr th:only-of-type {\n",
       "        vertical-align: middle;\n",
       "    }\n",
       "\n",
       "    .dataframe tbody tr th {\n",
       "        vertical-align: top;\n",
       "    }\n",
       "\n",
       "    .dataframe thead th {\n",
       "        text-align: right;\n",
       "    }\n",
       "</style>\n",
       "<table border=\"1\" class=\"dataframe\">\n",
       "  <thead>\n",
       "    <tr style=\"text-align: right;\">\n",
       "      <th></th>\n",
       "      <th>iv1</th>\n",
       "      <th>cell_line</th>\n",
       "      <th>iv2</th>\n",
       "      <th>phenotype</th>\n",
       "      <th>pred</th>\n",
       "    </tr>\n",
       "  </thead>\n",
       "  <tbody>\n",
       "    <tr>\n",
       "      <th>0</th>\n",
       "      <td>oc1([c@h]2ncccc2)cn(c1)c(c3=c(c(f)=c(c=c3)f)nc...</td>\n",
       "      <td>A375</td>\n",
       "      <td>cs(=o)c</td>\n",
       "      <td>GDSC</td>\n",
       "      <td>0.433839</td>\n",
       "    </tr>\n",
       "    <tr>\n",
       "      <th>1</th>\n",
       "      <td>oc1([c@h]2ncccc2)cn(c1)c(c3=c(c(f)=c(c=c3)f)nc...</td>\n",
       "      <td>UACC62</td>\n",
       "      <td>cs(=o)c</td>\n",
       "      <td>GDSC</td>\n",
       "      <td>0.466371</td>\n",
       "    </tr>\n",
       "    <tr>\n",
       "      <th>2</th>\n",
       "      <td>oc1([c@h]2ncccc2)cn(c1)c(c3=c(c(f)=c(c=c3)f)nc...</td>\n",
       "      <td>WM983B</td>\n",
       "      <td>cs(=o)c</td>\n",
       "      <td>GDSC</td>\n",
       "      <td>0.530880</td>\n",
       "    </tr>\n",
       "    <tr>\n",
       "      <th>3</th>\n",
       "      <td>oc1([c@h]2ncccc2)cn(c1)c(c3=c(c(f)=c(c=c3)f)nc...</td>\n",
       "      <td>MALME3M</td>\n",
       "      <td>cs(=o)c</td>\n",
       "      <td>GDSC</td>\n",
       "      <td>0.456714</td>\n",
       "    </tr>\n",
       "    <tr>\n",
       "      <th>4</th>\n",
       "      <td>oc1([c@h]2ncccc2)cn(c1)c(c3=c(c(f)=c(c=c3)f)nc...</td>\n",
       "      <td>A2058</td>\n",
       "      <td>cs(=o)c</td>\n",
       "      <td>GDSC</td>\n",
       "      <td>0.511629</td>\n",
       "    </tr>\n",
       "    <tr>\n",
       "      <th>...</th>\n",
       "      <td>...</td>\n",
       "      <td>...</td>\n",
       "      <td>...</td>\n",
       "      <td>...</td>\n",
       "      <td>...</td>\n",
       "    </tr>\n",
       "    <tr>\n",
       "      <th>132</th>\n",
       "      <td>cs(=o)c</td>\n",
       "      <td>SKMEL2</td>\n",
       "      <td>cs(=o)c</td>\n",
       "      <td>GDSC</td>\n",
       "      <td>0.621489</td>\n",
       "    </tr>\n",
       "    <tr>\n",
       "      <th>133</th>\n",
       "      <td>cs(=o)c</td>\n",
       "      <td>SKMEL1</td>\n",
       "      <td>cs(=o)c</td>\n",
       "      <td>GDSCcomb</td>\n",
       "      <td>0.604686</td>\n",
       "    </tr>\n",
       "    <tr>\n",
       "      <th>134</th>\n",
       "      <td>cs(=o)c</td>\n",
       "      <td>HMCB</td>\n",
       "      <td>cs(=o)c</td>\n",
       "      <td>PRISM</td>\n",
       "      <td>0.607143</td>\n",
       "    </tr>\n",
       "    <tr>\n",
       "      <th>135</th>\n",
       "      <td>cs(=o)c</td>\n",
       "      <td>MDAMB435S</td>\n",
       "      <td>cs(=o)c</td>\n",
       "      <td>inhouse</td>\n",
       "      <td>0.582945</td>\n",
       "    </tr>\n",
       "    <tr>\n",
       "      <th>136</th>\n",
       "      <td>cs(=o)c</td>\n",
       "      <td>UACC257</td>\n",
       "      <td>cs(=o)c</td>\n",
       "      <td>CTRP</td>\n",
       "      <td>0.644480</td>\n",
       "    </tr>\n",
       "  </tbody>\n",
       "</table>\n",
       "<p>137 rows × 5 columns</p>\n",
       "</div>"
      ],
      "text/plain": [
       "                                                   iv1  cell_line      iv2  \\\n",
       "0    oc1([c@h]2ncccc2)cn(c1)c(c3=c(c(f)=c(c=c3)f)nc...       A375  cs(=o)c   \n",
       "1    oc1([c@h]2ncccc2)cn(c1)c(c3=c(c(f)=c(c=c3)f)nc...     UACC62  cs(=o)c   \n",
       "2    oc1([c@h]2ncccc2)cn(c1)c(c3=c(c(f)=c(c=c3)f)nc...     WM983B  cs(=o)c   \n",
       "3    oc1([c@h]2ncccc2)cn(c1)c(c3=c(c(f)=c(c=c3)f)nc...    MALME3M  cs(=o)c   \n",
       "4    oc1([c@h]2ncccc2)cn(c1)c(c3=c(c(f)=c(c=c3)f)nc...      A2058  cs(=o)c   \n",
       "..                                                 ...        ...      ...   \n",
       "132                                            cs(=o)c     SKMEL2  cs(=o)c   \n",
       "133                                            cs(=o)c     SKMEL1  cs(=o)c   \n",
       "134                                            cs(=o)c       HMCB  cs(=o)c   \n",
       "135                                            cs(=o)c  MDAMB435S  cs(=o)c   \n",
       "136                                            cs(=o)c    UACC257  cs(=o)c   \n",
       "\n",
       "    phenotype      pred  \n",
       "0        GDSC  0.433839  \n",
       "1        GDSC  0.466371  \n",
       "2        GDSC  0.530880  \n",
       "3        GDSC  0.456714  \n",
       "4        GDSC  0.511629  \n",
       "..        ...       ...  \n",
       "132      GDSC  0.621489  \n",
       "133  GDSCcomb  0.604686  \n",
       "134     PRISM  0.607143  \n",
       "135   inhouse  0.582945  \n",
       "136      CTRP  0.644480  \n",
       "\n",
       "[137 rows x 5 columns]"
      ]
     },
     "execution_count": 66,
     "metadata": {},
     "output_type": "execute_result"
    }
   ],
   "source": [
    "# predict exact experiments with a dataframe\n",
    "crossmerge = pd.MultiIndex.from_product([\n",
    "    iv_list,\n",
    "    cl_list,\n",
    "], names=['iv1', 'cell_line'])\n",
    "\n",
    "input_df = crossmerge.to_frame(index=False).reset_index(drop=True)\n",
    "input_df['iv2'] = 'cs(=o)c'\n",
    "input_df['phenotype'] = 'GDSC'\n",
    "df = model.predict(input_df, num_iterations=1, save=False)\n",
    "df"
   ]
  }
 ],
 "metadata": {
  "kernelspec": {
   "display_name": "Python [conda env:prophet_api]",
   "language": "python",
   "name": "conda-env-prophet_api-py"
  },
  "language_info": {
   "codemirror_mode": {
    "name": "ipython",
    "version": 3
   },
   "file_extension": ".py",
   "mimetype": "text/x-python",
   "name": "python",
   "nbconvert_exporter": "python",
   "pygments_lexer": "ipython3",
   "version": "3.12.4"
  }
 },
 "nbformat": 4,
 "nbformat_minor": 5
}
